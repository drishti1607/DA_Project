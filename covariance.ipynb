{
 "cells": [
  {
   "cell_type": "code",
   "execution_count": 138,
   "metadata": {},
   "outputs": [],
   "source": [
    "import pandas as pd\n",
    "import numpy as np\n",
    "import matplotlib.mlab as mlab\n",
    "import matplotlib.pyplot as plt\n",
    "import matplotlib.cm as cm\n",
    "from matplotlib.colors import Normalize\n",
    "from numpy.random import rand\n",
    "import seaborn as sn"
   ]
  },
  {
   "cell_type": "code",
   "execution_count": 32,
   "metadata": {},
   "outputs": [],
   "source": [
    "df=pd.read_excel(\"try1.xlsx\") "
   ]
  },
  {
   "cell_type": "code",
   "execution_count": 14,
   "metadata": {},
   "outputs": [],
   "source": [
    "df.drop(df.index[df['Year'] == '2008'], inplace = True)"
   ]
  },
  {
   "cell_type": "code",
   "execution_count": 56,
   "metadata": {},
   "outputs": [
    {
     "data": {
      "image/png": "[encoded data removed]",
      "text/plain": [
       "<Figure size 432x288 with 1 Axes>"
      ]
     },
     "metadata": {
      "needs_background": "light"
     },
     "output_type": "display_data"
    }
   ],
   "source": [
    "fig = plt.figure()\n",
    "ax = fig.add_axes([0,0,1,1])\n",
    "year = df[\"Year\"]\n",
    "crime = df[\"Cases_Pending_Trial_at_Year_End\"]\n",
    "barlist=ax.bar(year,crime,0.6,1.0)\n",
    "plt.title('Pending cases trend')\n",
    "plt.xlabel('Year')\n",
    "plt.ylabel('Pending cases')\n",
    "ax.spines['top'].set_visible(False)\n",
    "ax.spines['right'].set_visible(False)\n",
    "ax.spines['left'].set_visible(False)\n",
    "ax.spines['bottom'].set_color('#DDDDDD')\n",
    "ax.tick_params(bottom=False, left=False)\n",
    "ax.set_axisbelow(True)\n",
    "ax.yaxis.grid(True, color='#EEEEEE')\n",
    "ax.xaxis.grid(False)\n",
    "\n",
    "plt.show()"
   ]
  },
  {
   "cell_type": "code",
   "execution_count": 10,
   "metadata": {},
   "outputs": [
    {
     "data": {
      "text/plain": [
       "Total Crime Against Women    315\n",
       "Name: Group_Name, dtype: int64"
      ]
     },
     "execution_count": 10,
     "metadata": {},
     "output_type": "execute_result"
    }
   ],
   "source": [
    "df['Group_Name'].value_counts()\n"
   ]
  },
  {
   "cell_type": "code",
   "execution_count": 39,
   "metadata": {},
   "outputs": [
    {
     "data": {
      "image/png": "[encoded data removed]",
      "text/plain": [
       "<Figure size 864x576 with 1 Axes>"
      ]
     },
     "metadata": {
      "needs_background": "light"
     },
     "output_type": "display_data"
    }
   ],
   "source": [
    "fig, ax = plt.subplots(figsize=(12, 8))\n",
    "x = df[\"Year\"]\n",
    "bar_width = 0.4\n",
    "y=df['Cases_Convicted']\n",
    "b1 = ax.bar(x, y,\n",
    "            width=bar_width,label='Cases Convicted')\n",
    "b2 = ax.bar(x + bar_width, df[\"Cases_Reported\"],\n",
    "            width=bar_width,label='Cases Reported')\n",
    "plt.title('Year Wise Conviction Rate vs Reported Rate')\n",
    "plt.xlabel('Year')\n",
    "plt.ylabel('Cases')\n",
    "ax.legend()\n",
    "ax.spines['top'].set_visible(False)\n",
    "ax.spines['right'].set_visible(False)\n",
    "ax.spines['left'].set_visible(False)\n",
    "ax.spines['bottom'].set_color('#DDDDDD')\n",
    "ax.tick_params(bottom=False, left=False)\n",
    "ax.set_axisbelow(True)\n",
    "ax.yaxis.grid(True, color='#EEEEEE')\n",
    "ax.xaxis.grid(False)\n",
    "\n"
   ]
  },
  {
   "cell_type": "code",
   "execution_count": 30,
   "metadata": {},
   "outputs": [
    {
     "name": "stdout",
     "output_type": "stream",
     "text": [
      "<class 'pandas.core.frame.DataFrame'>\n",
      "RangeIndex: 315 entries, 0 to 314\n",
      "Data columns (total 19 columns):\n",
      " #   Column                                                        Non-Null Count  Dtype \n",
      "---  ------                                                        --------------  ----- \n",
      " 0   Area_Name                                                     315 non-null    object\n",
      " 1   Year                                                          315 non-null    int64 \n",
      " 2   Group_Name                                                    315 non-null    object\n",
      " 3   Cases_Acquitted_or_Discharged                                 315 non-null    int64 \n",
      " 4   Cases_charge_sheets_were_not_laid_but_Final_Report_submitted  315 non-null    int64 \n",
      " 5   Cases_Chargesheeted                                           315 non-null    int64 \n",
      " 6   Cases_Compounded_or_Withdrawn                                 315 non-null    int64 \n",
      " 7   Cases_Convicted                                               315 non-null    int64 \n",
      " 8   Cases_Declared_False_on_Account_of_Mistake_of_Fact_or_of_Law  315 non-null    int64 \n",
      " 9   Cases_Investigated_Chargesheets+FR_Submitted                  315 non-null    int64 \n",
      " 10  Cases_not_Investigated_or_in_which_investigation_was_refused  315 non-null    int64 \n",
      " 11  Cases_Pending_Investigation_at_Year_End                       315 non-null    int64 \n",
      " 12  Cases_Pending_Investigation_from_previous_year                315 non-null    int64 \n",
      " 13  Cases_Pending_Trial_at_Year_End                               315 non-null    int64 \n",
      " 14  Cases_Pending_Trial_from_the_previous_year                    315 non-null    int64 \n",
      " 15  Cases_Reported                                                315 non-null    int64 \n",
      " 16  Cases_Sent_for_Trial                                          315 non-null    int64 \n",
      " 17  Cases_Trials_Completed                                        315 non-null    int64 \n",
      " 18  Total_Cases_for_Trial                                         315 non-null    int64 \n",
      "dtypes: int64(17), object(2)\n",
      "memory usage: 46.9+ KB\n"
     ]
    }
   ],
   "source": [
    "df.info()"
   ]
  },
  {
   "cell_type": "code",
   "execution_count": 53,
   "metadata": {},
   "outputs": [
    {
     "data": {
      "text/plain": [
       "Text(0, 0.5, 'Cases')"
      ]
     },
     "execution_count": 53,
     "metadata": {},
     "output_type": "execute_result"
    },
    {
     "data": {
      "image/png": "[encoded data removed]",
      "text/plain": [
       "<Figure size 432x288 with 1 Axes>"
      ]
     },
     "metadata": {
      "needs_background": "light"
     },
     "output_type": "display_data"
    }
   ],
   "source": [
    "df.boxplot(by ='Area_Name', column =[\"Cases_Convicted\"], grid= True)\n",
    "plt.xticks(rotation=90)\n",
    "plt.title('Area Vs Conviction Rate')\n",
    "plt.xlabel('Area')\n",
    "plt.ylabel('Cases')\n",
    "\n"
   ]
  },
  {
   "cell_type": "code",
   "execution_count": 204,
   "metadata": {},
   "outputs": [],
   "source": [
    "df=pd.read_csv(\"42_Cases_under_crime_against_women.csv\") "
   ]
  },
  {
   "cell_type": "code",
   "execution_count": 215,
   "metadata": {},
   "outputs": [],
   "source": [
    "data=df.loc[df[\"Area_Name\"] == \"Uttar Pradesh\"]"
   ]
  },
  {
   "cell_type": "code",
   "execution_count": 216,
   "metadata": {},
   "outputs": [],
   "source": [
    "data1=df.loc[df[\"Area_Name\"] == \"Maharashtra\"]"
   ]
  },
  {
   "cell_type": "code",
   "execution_count": 217,
   "metadata": {},
   "outputs": [
    {
     "data": {
      "text/html": [
       "<div>\n",
       "<style scoped>\n",
       "    .dataframe tbody tr th:only-of-type {\n",
       "        vertical-align: middle;\n",
       "    }\n",
       "\n",
       "    .dataframe tbody tr th {\n",
       "        vertical-align: top;\n",
       "    }\n",
       "\n",
       "    .dataframe thead th {\n",
       "        text-align: right;\n",
       "    }\n",
       "</style>\n",
       "<table border=\"1\" class=\"dataframe\">\n",
       "  <thead>\n",
       "    <tr style=\"text-align: right;\">\n",
       "      <th></th>\n",
       "      <th>Area_Name</th>\n",
       "      <th>Year</th>\n",
       "      <th>Group_Name</th>\n",
       "      <th>Cases_Acquitted_or_Discharged</th>\n",
       "      <th>Cases_charge_sheets_were_not_laid_but_Final_Report_submitted</th>\n",
       "      <th>Cases_Chargesheeted</th>\n",
       "      <th>Cases_Compounded_or_Withdrawn</th>\n",
       "      <th>Cases_Convicted</th>\n",
       "      <th>Cases_Declared_False_on_Account_of_Mistake_of_Fact_or_of_Law</th>\n",
       "      <th>Cases_Investigated_Chargesheets+FR_Submitted</th>\n",
       "      <th>Cases_not_Investigated_or_in_which_investigation_was_refused</th>\n",
       "      <th>Cases_Pending_Investigation_at_Year_End</th>\n",
       "      <th>Cases_Pending_Investigation_from_previous_year</th>\n",
       "      <th>Cases_Pending_Trial_at_Year_End</th>\n",
       "      <th>Cases_Pending_Trial_from_the_previous_year</th>\n",
       "      <th>Cases_Reported</th>\n",
       "      <th>Cases_Sent_for_Trial</th>\n",
       "      <th>Cases_Trials_Completed</th>\n",
       "      <th>Total_Cases_for_Trial</th>\n",
       "      <th>Unnamed: 19</th>\n",
       "    </tr>\n",
       "  </thead>\n",
       "  <tbody>\n",
       "    <tr>\n",
       "      <th>32</th>\n",
       "      <td>Uttar Pradesh</td>\n",
       "      <td>2001</td>\n",
       "      <td>Rape</td>\n",
       "      <td>622</td>\n",
       "      <td>152</td>\n",
       "      <td>1613</td>\n",
       "      <td>15</td>\n",
       "      <td>697</td>\n",
       "      <td>215</td>\n",
       "      <td>1765</td>\n",
       "      <td>0</td>\n",
       "      <td>192</td>\n",
       "      <td>214</td>\n",
       "      <td>5616</td>\n",
       "      <td>5337</td>\n",
       "      <td>1958</td>\n",
       "      <td>1613</td>\n",
       "      <td>1319</td>\n",
       "      <td>6950</td>\n",
       "      <td>NaN</td>\n",
       "    </tr>\n",
       "    <tr>\n",
       "      <th>67</th>\n",
       "      <td>Uttar Pradesh</td>\n",
       "      <td>2002</td>\n",
       "      <td>Rape</td>\n",
       "      <td>767</td>\n",
       "      <td>87</td>\n",
       "      <td>1282</td>\n",
       "      <td>20</td>\n",
       "      <td>708</td>\n",
       "      <td>184</td>\n",
       "      <td>1369</td>\n",
       "      <td>0</td>\n",
       "      <td>54</td>\n",
       "      <td>192</td>\n",
       "      <td>5403</td>\n",
       "      <td>5616</td>\n",
       "      <td>1415</td>\n",
       "      <td>1282</td>\n",
       "      <td>1475</td>\n",
       "      <td>6898</td>\n",
       "      <td>NaN</td>\n",
       "    </tr>\n",
       "    <tr>\n",
       "      <th>102</th>\n",
       "      <td>Uttar Pradesh</td>\n",
       "      <td>2003</td>\n",
       "      <td>Rape</td>\n",
       "      <td>654</td>\n",
       "      <td>34</td>\n",
       "      <td>719</td>\n",
       "      <td>6</td>\n",
       "      <td>682</td>\n",
       "      <td>112</td>\n",
       "      <td>753</td>\n",
       "      <td>0</td>\n",
       "      <td>100</td>\n",
       "      <td>54</td>\n",
       "      <td>4780</td>\n",
       "      <td>5403</td>\n",
       "      <td>911</td>\n",
       "      <td>719</td>\n",
       "      <td>1336</td>\n",
       "      <td>6122</td>\n",
       "      <td>NaN</td>\n",
       "    </tr>\n",
       "    <tr>\n",
       "      <th>137</th>\n",
       "      <td>Uttar Pradesh</td>\n",
       "      <td>2004</td>\n",
       "      <td>Rape</td>\n",
       "      <td>622</td>\n",
       "      <td>75</td>\n",
       "      <td>1163</td>\n",
       "      <td>14</td>\n",
       "      <td>660</td>\n",
       "      <td>133</td>\n",
       "      <td>1238</td>\n",
       "      <td>0</td>\n",
       "      <td>126</td>\n",
       "      <td>100</td>\n",
       "      <td>4647</td>\n",
       "      <td>4780</td>\n",
       "      <td>1397</td>\n",
       "      <td>1163</td>\n",
       "      <td>1282</td>\n",
       "      <td>5943</td>\n",
       "      <td>NaN</td>\n",
       "    </tr>\n",
       "    <tr>\n",
       "      <th>172</th>\n",
       "      <td>Uttar Pradesh</td>\n",
       "      <td>2005</td>\n",
       "      <td>Rape</td>\n",
       "      <td>631</td>\n",
       "      <td>66</td>\n",
       "      <td>1029</td>\n",
       "      <td>28</td>\n",
       "      <td>657</td>\n",
       "      <td>132</td>\n",
       "      <td>1095</td>\n",
       "      <td>0</td>\n",
       "      <td>116</td>\n",
       "      <td>126</td>\n",
       "      <td>4360</td>\n",
       "      <td>4647</td>\n",
       "      <td>1217</td>\n",
       "      <td>1029</td>\n",
       "      <td>1288</td>\n",
       "      <td>5676</td>\n",
       "      <td>NaN</td>\n",
       "    </tr>\n",
       "  </tbody>\n",
       "</table>\n",
       "</div>"
      ],
      "text/plain": [
       "         Area_Name  Year Group_Name  Cases_Acquitted_or_Discharged  \\\n",
       "32   Uttar Pradesh  2001       Rape                            622   \n",
       "67   Uttar Pradesh  2002       Rape                            767   \n",
       "102  Uttar Pradesh  2003       Rape                            654   \n",
       "137  Uttar Pradesh  2004       Rape                            622   \n",
       "172  Uttar Pradesh  2005       Rape                            631   \n",
       "\n",
       "     Cases_charge_sheets_were_not_laid_but_Final_Report_submitted  \\\n",
       "32                                                 152              \n",
       "67                                                  87              \n",
       "102                                                 34              \n",
       "137                                                 75              \n",
       "172                                                 66              \n",
       "\n",
       "     Cases_Chargesheeted  Cases_Compounded_or_Withdrawn  Cases_Convicted  \\\n",
       "32                  1613                             15              697   \n",
       "67                  1282                             20              708   \n",
       "102                  719                              6              682   \n",
       "137                 1163                             14              660   \n",
       "172                 1029                             28              657   \n",
       "\n",
       "     Cases_Declared_False_on_Account_of_Mistake_of_Fact_or_of_Law  \\\n",
       "32                                                 215              \n",
       "67                                                 184              \n",
       "102                                                112              \n",
       "137                                                133              \n",
       "172                                                132              \n",
       "\n",
       "     Cases_Investigated_Chargesheets+FR_Submitted  \\\n",
       "32                                           1765   \n",
       "67                                           1369   \n",
       "102                                           753   \n",
       "137                                          1238   \n",
       "172                                          1095   \n",
       "\n",
       "     Cases_not_Investigated_or_in_which_investigation_was_refused  \\\n",
       "32                                                   0              \n",
       "67                                                   0              \n",
       "102                                                  0              \n",
       "137                                                  0              \n",
       "172                                                  0              \n",
       "\n",
       "     Cases_Pending_Investigation_at_Year_End  \\\n",
       "32                                       192   \n",
       "67                                        54   \n",
       "102                                      100   \n",
       "137                                      126   \n",
       "172                                      116   \n",
       "\n",
       "     Cases_Pending_Investigation_from_previous_year  \\\n",
       "32                                              214   \n",
       "67                                              192   \n",
       "102                                              54   \n",
       "137                                             100   \n",
       "172                                             126   \n",
       "\n",
       "     Cases_Pending_Trial_at_Year_End  \\\n",
       "32                              5616   \n",
       "67                              5403   \n",
       "102                             4780   \n",
       "137                             4647   \n",
       "172                             4360   \n",
       "\n",
       "     Cases_Pending_Trial_from_the_previous_year  Cases_Reported  \\\n",
       "32                                         5337            1958   \n",
       "67                                         5616            1415   \n",
       "102                                        5403             911   \n",
       "137                                        4780            1397   \n",
       "172                                        4647            1217   \n",
       "\n",
       "     Cases_Sent_for_Trial  Cases_Trials_Completed  Total_Cases_for_Trial  \\\n",
       "32                   1613                    1319                   6950   \n",
       "67                   1282                    1475                   6898   \n",
       "102                   719                    1336                   6122   \n",
       "137                  1163                    1282                   5943   \n",
       "172                  1029                    1288                   5676   \n",
       "\n",
       "     Unnamed: 19  \n",
       "32           NaN  \n",
       "67           NaN  \n",
       "102          NaN  \n",
       "137          NaN  \n",
       "172          NaN  "
      ]
     },
     "execution_count": 217,
     "metadata": {},
     "output_type": "execute_result"
    }
   ],
   "source": [
    "data.head()"
   ]
  },
  {
   "cell_type": "code",
   "execution_count": 218,
   "metadata": {},
   "outputs": [
    {
     "data": {
      "text/html": [
       "<div>\n",
       "<style scoped>\n",
       "    .dataframe tbody tr th:only-of-type {\n",
       "        vertical-align: middle;\n",
       "    }\n",
       "\n",
       "    .dataframe tbody tr th {\n",
       "        vertical-align: top;\n",
       "    }\n",
       "\n",
       "    .dataframe thead th {\n",
       "        text-align: right;\n",
       "    }\n",
       "</style>\n",
       "<table border=\"1\" class=\"dataframe\">\n",
       "  <thead>\n",
       "    <tr style=\"text-align: right;\">\n",
       "      <th></th>\n",
       "      <th>Area_Name</th>\n",
       "      <th>Year</th>\n",
       "      <th>Group_Name</th>\n",
       "      <th>Cases_Acquitted_or_Discharged</th>\n",
       "      <th>Cases_charge_sheets_were_not_laid_but_Final_Report_submitted</th>\n",
       "      <th>Cases_Chargesheeted</th>\n",
       "      <th>Cases_Compounded_or_Withdrawn</th>\n",
       "      <th>Cases_Convicted</th>\n",
       "      <th>Cases_Declared_False_on_Account_of_Mistake_of_Fact_or_of_Law</th>\n",
       "      <th>Cases_Investigated_Chargesheets+FR_Submitted</th>\n",
       "      <th>Cases_not_Investigated_or_in_which_investigation_was_refused</th>\n",
       "      <th>Cases_Pending_Investigation_at_Year_End</th>\n",
       "      <th>Cases_Pending_Investigation_from_previous_year</th>\n",
       "      <th>Cases_Pending_Trial_at_Year_End</th>\n",
       "      <th>Cases_Pending_Trial_from_the_previous_year</th>\n",
       "      <th>Cases_Reported</th>\n",
       "      <th>Cases_Sent_for_Trial</th>\n",
       "      <th>Cases_Trials_Completed</th>\n",
       "      <th>Total_Cases_for_Trial</th>\n",
       "      <th>Unnamed: 19</th>\n",
       "    </tr>\n",
       "  </thead>\n",
       "  <tbody>\n",
       "    <tr>\n",
       "      <th>20</th>\n",
       "      <td>Maharashtra</td>\n",
       "      <td>2001</td>\n",
       "      <td>Rape</td>\n",
       "      <td>727</td>\n",
       "      <td>21</td>\n",
       "      <td>1289</td>\n",
       "      <td>17</td>\n",
       "      <td>125</td>\n",
       "      <td>20</td>\n",
       "      <td>1310</td>\n",
       "      <td>0</td>\n",
       "      <td>230</td>\n",
       "      <td>258</td>\n",
       "      <td>9876</td>\n",
       "      <td>9456</td>\n",
       "      <td>1302</td>\n",
       "      <td>1289</td>\n",
       "      <td>852</td>\n",
       "      <td>10745</td>\n",
       "      <td>NaN</td>\n",
       "    </tr>\n",
       "    <tr>\n",
       "      <th>55</th>\n",
       "      <td>Maharashtra</td>\n",
       "      <td>2002</td>\n",
       "      <td>Rape</td>\n",
       "      <td>1011</td>\n",
       "      <td>32</td>\n",
       "      <td>1288</td>\n",
       "      <td>16</td>\n",
       "      <td>163</td>\n",
       "      <td>17</td>\n",
       "      <td>1320</td>\n",
       "      <td>0</td>\n",
       "      <td>245</td>\n",
       "      <td>230</td>\n",
       "      <td>9974</td>\n",
       "      <td>9876</td>\n",
       "      <td>1352</td>\n",
       "      <td>1288</td>\n",
       "      <td>1174</td>\n",
       "      <td>11164</td>\n",
       "      <td>NaN</td>\n",
       "    </tr>\n",
       "    <tr>\n",
       "      <th>90</th>\n",
       "      <td>Maharashtra</td>\n",
       "      <td>2003</td>\n",
       "      <td>Rape</td>\n",
       "      <td>994</td>\n",
       "      <td>34</td>\n",
       "      <td>1203</td>\n",
       "      <td>29</td>\n",
       "      <td>190</td>\n",
       "      <td>17</td>\n",
       "      <td>1237</td>\n",
       "      <td>0</td>\n",
       "      <td>259</td>\n",
       "      <td>245</td>\n",
       "      <td>9964</td>\n",
       "      <td>9974</td>\n",
       "      <td>1268</td>\n",
       "      <td>1203</td>\n",
       "      <td>1184</td>\n",
       "      <td>11177</td>\n",
       "      <td>NaN</td>\n",
       "    </tr>\n",
       "    <tr>\n",
       "      <th>125</th>\n",
       "      <td>Maharashtra</td>\n",
       "      <td>2004</td>\n",
       "      <td>Rape</td>\n",
       "      <td>1033</td>\n",
       "      <td>29</td>\n",
       "      <td>1261</td>\n",
       "      <td>17</td>\n",
       "      <td>227</td>\n",
       "      <td>23</td>\n",
       "      <td>1290</td>\n",
       "      <td>0</td>\n",
       "      <td>334</td>\n",
       "      <td>259</td>\n",
       "      <td>9948</td>\n",
       "      <td>9964</td>\n",
       "      <td>1388</td>\n",
       "      <td>1261</td>\n",
       "      <td>1260</td>\n",
       "      <td>11225</td>\n",
       "      <td>NaN</td>\n",
       "    </tr>\n",
       "    <tr>\n",
       "      <th>160</th>\n",
       "      <td>Maharashtra</td>\n",
       "      <td>2005</td>\n",
       "      <td>Rape</td>\n",
       "      <td>991</td>\n",
       "      <td>28</td>\n",
       "      <td>1441</td>\n",
       "      <td>13</td>\n",
       "      <td>177</td>\n",
       "      <td>17</td>\n",
       "      <td>1469</td>\n",
       "      <td>7</td>\n",
       "      <td>386</td>\n",
       "      <td>334</td>\n",
       "      <td>10208</td>\n",
       "      <td>9948</td>\n",
       "      <td>1545</td>\n",
       "      <td>1441</td>\n",
       "      <td>1168</td>\n",
       "      <td>11389</td>\n",
       "      <td>NaN</td>\n",
       "    </tr>\n",
       "  </tbody>\n",
       "</table>\n",
       "</div>"
      ],
      "text/plain": [
       "       Area_Name  Year Group_Name  Cases_Acquitted_or_Discharged  \\\n",
       "20   Maharashtra  2001       Rape                            727   \n",
       "55   Maharashtra  2002       Rape                           1011   \n",
       "90   Maharashtra  2003       Rape                            994   \n",
       "125  Maharashtra  2004       Rape                           1033   \n",
       "160  Maharashtra  2005       Rape                            991   \n",
       "\n",
       "     Cases_charge_sheets_were_not_laid_but_Final_Report_submitted  \\\n",
       "20                                                  21              \n",
       "55                                                  32              \n",
       "90                                                  34              \n",
       "125                                                 29              \n",
       "160                                                 28              \n",
       "\n",
       "     Cases_Chargesheeted  Cases_Compounded_or_Withdrawn  Cases_Convicted  \\\n",
       "20                  1289                             17              125   \n",
       "55                  1288                             16              163   \n",
       "90                  1203                             29              190   \n",
       "125                 1261                             17              227   \n",
       "160                 1441                             13              177   \n",
       "\n",
       "     Cases_Declared_False_on_Account_of_Mistake_of_Fact_or_of_Law  \\\n",
       "20                                                  20              \n",
       "55                                                  17              \n",
       "90                                                  17              \n",
       "125                                                 23              \n",
       "160                                                 17              \n",
       "\n",
       "     Cases_Investigated_Chargesheets+FR_Submitted  \\\n",
       "20                                           1310   \n",
       "55                                           1320   \n",
       "90                                           1237   \n",
       "125                                          1290   \n",
       "160                                          1469   \n",
       "\n",
       "     Cases_not_Investigated_or_in_which_investigation_was_refused  \\\n",
       "20                                                   0              \n",
       "55                                                   0              \n",
       "90                                                   0              \n",
       "125                                                  0              \n",
       "160                                                  7              \n",
       "\n",
       "     Cases_Pending_Investigation_at_Year_End  \\\n",
       "20                                       230   \n",
       "55                                       245   \n",
       "90                                       259   \n",
       "125                                      334   \n",
       "160                                      386   \n",
       "\n",
       "     Cases_Pending_Investigation_from_previous_year  \\\n",
       "20                                              258   \n",
       "55                                              230   \n",
       "90                                              245   \n",
       "125                                             259   \n",
       "160                                             334   \n",
       "\n",
       "     Cases_Pending_Trial_at_Year_End  \\\n",
       "20                              9876   \n",
       "55                              9974   \n",
       "90                              9964   \n",
       "125                             9948   \n",
       "160                            10208   \n",
       "\n",
       "     Cases_Pending_Trial_from_the_previous_year  Cases_Reported  \\\n",
       "20                                         9456            1302   \n",
       "55                                         9876            1352   \n",
       "90                                         9974            1268   \n",
       "125                                        9964            1388   \n",
       "160                                        9948            1545   \n",
       "\n",
       "     Cases_Sent_for_Trial  Cases_Trials_Completed  Total_Cases_for_Trial  \\\n",
       "20                   1289                     852                  10745   \n",
       "55                   1288                    1174                  11164   \n",
       "90                   1203                    1184                  11177   \n",
       "125                  1261                    1260                  11225   \n",
       "160                  1441                    1168                  11389   \n",
       "\n",
       "     Unnamed: 19  \n",
       "20           NaN  \n",
       "55           NaN  \n",
       "90           NaN  \n",
       "125          NaN  \n",
       "160          NaN  "
      ]
     },
     "execution_count": 218,
     "metadata": {},
     "output_type": "execute_result"
    }
   ],
   "source": [
    "data1.head()"
   ]
  },
  {
   "cell_type": "code",
   "execution_count": 219,
   "metadata": {},
   "outputs": [],
   "source": [
    "data2=df.loc[df[\"Area_Name\"] == \"Karnataka\"]"
   ]
  },
  {
   "cell_type": "code",
   "execution_count": 227,
   "metadata": {},
   "outputs": [],
   "source": [
    "frames = [data, data1, data2]"
   ]
  },
  {
   "cell_type": "code",
   "execution_count": 228,
   "metadata": {},
   "outputs": [],
   "source": [
    " result = pd.concat(frames)"
   ]
  },
  {
   "cell_type": "code",
   "execution_count": 233,
   "metadata": {},
   "outputs": [],
   "source": [
    "V=result.loc[df[\"Group_Name\"] == \"Rape\"]"
   ]
  },
  {
   "cell_type": "code",
   "execution_count": 236,
   "metadata": {},
   "outputs": [
    {
     "name": "stdout",
     "output_type": "stream",
     "text": [
      "<class 'pandas.core.frame.DataFrame'>\n",
      "Int64Index: 30 entries, 32 to 331\n",
      "Data columns (total 20 columns):\n",
      " #   Column                                                        Non-Null Count  Dtype  \n",
      "---  ------                                                        --------------  -----  \n",
      " 0   Area_Name                                                     30 non-null     object \n",
      " 1   Year                                                          30 non-null     int64  \n",
      " 2   Group_Name                                                    30 non-null     object \n",
      " 3   Cases_Acquitted_or_Discharged                                 30 non-null     int64  \n",
      " 4   Cases_charge_sheets_were_not_laid_but_Final_Report_submitted  30 non-null     int64  \n",
      " 5   Cases_Chargesheeted                                           30 non-null     int64  \n",
      " 6   Cases_Compounded_or_Withdrawn                                 30 non-null     int64  \n",
      " 7   Cases_Convicted                                               30 non-null     int64  \n",
      " 8   Cases_Declared_False_on_Account_of_Mistake_of_Fact_or_of_Law  30 non-null     int64  \n",
      " 9   Cases_Investigated_Chargesheets+FR_Submitted                  30 non-null     int64  \n",
      " 10  Cases_not_Investigated_or_in_which_investigation_was_refused  30 non-null     int64  \n",
      " 11  Cases_Pending_Investigation_at_Year_End                       30 non-null     int64  \n",
      " 12  Cases_Pending_Investigation_from_previous_year                30 non-null     int64  \n",
      " 13  Cases_Pending_Trial_at_Year_End                               30 non-null     int64  \n",
      " 14  Cases_Pending_Trial_from_the_previous_year                    30 non-null     int64  \n",
      " 15  Cases_Reported                                                30 non-null     int64  \n",
      " 16  Cases_Sent_for_Trial                                          30 non-null     int64  \n",
      " 17  Cases_Trials_Completed                                        30 non-null     int64  \n",
      " 18  Total_Cases_for_Trial                                         30 non-null     int64  \n",
      " 19  Unnamed: 19                                                   0 non-null      float64\n",
      "dtypes: float64(1), int64(17), object(2)\n",
      "memory usage: 4.9+ KB\n"
     ]
    }
   ],
   "source": [
    "V.info()"
   ]
  },
  {
   "cell_type": "code",
   "execution_count": 241,
   "metadata": {},
   "outputs": [],
   "source": [
    "final=V[['Cases_Convicted','Cases_Reported','Cases_Chargesheeted']]"
   ]
  },
  {
   "cell_type": "code",
   "execution_count": 242,
   "metadata": {},
   "outputs": [
    {
     "name": "stdout",
     "output_type": "stream",
     "text": [
      "<class 'pandas.core.frame.DataFrame'>\n",
      "Int64Index: 30 entries, 32 to 331\n",
      "Data columns (total 3 columns):\n",
      " #   Column               Non-Null Count  Dtype\n",
      "---  ------               --------------  -----\n",
      " 0   Cases_Convicted      30 non-null     int64\n",
      " 1   Cases_Reported       30 non-null     int64\n",
      " 2   Cases_Chargesheeted  30 non-null     int64\n",
      "dtypes: int64(3)\n",
      "memory usage: 960.0 bytes\n"
     ]
    }
   ],
   "source": [
    "final.info()"
   ]
  },
  {
   "cell_type": "code",
   "execution_count": 249,
   "metadata": {},
   "outputs": [
    {
     "name": "stdout",
     "output_type": "stream",
     "text": [
      "[[2.98971982 2.52035944 0.92354244]\n",
      " [2.52035944 2.22039622 0.63683322]\n",
      " [0.92354244 0.63683322 0.71036139]]\n"
     ]
    },
    {
     "data": {
      "image/png": "[encoded data removed]",
      "text/plain": [
       "<Figure size 432x288 with 2 Axes>"
      ]
     },
     "metadata": {
      "needs_background": "light"
     },
     "output_type": "display_data"
    }
   ],
   "source": [
    "A=final['Cases_Convicted']\n",
    "B=final['Cases_Reported']\n",
    "C=final['Cases_Chargesheeted']\n",
    "data = np.array([B,C,A])\n",
    "covMatrix = np.cov(data,bias=True)/100000\n",
    "print (covMatrix)\n",
    "sn.heatmap(covMatrix, annot=True, fmt='g')\n",
    "plt.show()"
   ]
  },
  {
   "cell_type": "code",
   "execution_count": 250,
   "metadata": {},
   "outputs": [
    {
     "data": {
      "image/png": "[encoded data removed]",
      "text/plain": [
       "<Figure size 432x288 with 1 Axes>"
      ]
     },
     "metadata": {
      "needs_background": "light"
     },
     "output_type": "display_data"
    }
   ],
   "source": [
    "plt.scatter(B,C)\n",
    "plt.show()"
   ]
  },
  {
   "cell_type": "code",
   "execution_count": 251,
   "metadata": {},
   "outputs": [
    {
     "data": {
      "image/png": "[encoded data removed]",
      "text/plain": [
       "<Figure size 432x288 with 1 Axes>"
      ]
     },
     "metadata": {
      "needs_background": "light"
     },
     "output_type": "display_data"
    }
   ],
   "source": [
    "plt.scatter(B,A)\n",
    "plt.show()"
   ]
  },
  {
   "cell_type": "code",
   "execution_count": null,
   "metadata": {},
   "outputs": [],
   "source": []
  }
 ],
 "metadata": {
  "kernelspec": {
   "display_name": "Python 3",
   "language": "python",
   "name": "python3"
  },
  "language_info": {
   "codemirror_mode": {
    "name": "ipython",
    "version": 3
   },
   "file_extension": ".py",
   "mimetype": "text/x-python",
   "name": "python",
   "nbconvert_exporter": "python",
   "pygments_lexer": "ipython3",
   "version": "3.8.5"
  }
 },
 "nbformat": 4,
 "nbformat_minor": 4
}
